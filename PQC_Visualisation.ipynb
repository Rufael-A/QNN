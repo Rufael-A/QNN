{
 "cells": [
  {
   "cell_type": "code",
   "execution_count": null,
   "metadata": {},
   "outputs": [],
   "source": [
    "from qiskit import QuantumCircuit, transpile\n",
    "from qiskit.circuit import Parameter\n",
    "from qiskit_aer import Aer\n",
    "import numpy as np\n",
    "\n",
    "# Define a quantum circuit with parameterized gates\n",
    "def create_qnn_circuit(num_qubits):\n",
    "    circuit = QuantumCircuit(num_qubits)\n",
    "    params = [Parameter(f'theta_{i}') for i in range(num_qubits)]\n",
    "    \n",
    "    for i in range(num_qubits):\n",
    "        circuit.rx(params[i], i)\n",
    "        circuit.ry(params[i], i)\n",
    "    \n",
    "    circuit.measure_all()\n",
    "    return circuit, params\n",
    "\n",
    "# Example: Create a 2-qubit QNN circuit\n",
    "num_qubits = 2\n",
    "qnn_circuit, params = create_qnn_circuit(num_qubits)\n",
    "print(qnn_circuit)"
   ]
  }
 ],
 "metadata": {
  "language_info": {
   "name": "python"
  }
 },
 "nbformat": 4,
 "nbformat_minor": 2
}
