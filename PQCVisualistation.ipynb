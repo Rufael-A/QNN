from qiskit import QuantumCircuit, transpile
from qiskit.circuit import Parameter
from qiskit_aer import Aer
import numpy as np

# Define a quantum circuit with parameterized gates
def create_qnn_circuit(num_qubits):
    circuit = QuantumCircuit(num_qubits)
    params = [Parameter(f'theta_{i}') for i in range(num_qubits)]
    
    for i in range(num_qubits):
        circuit.rx(params[i], i)
        circuit.ry(params[i], i)
    
    circuit.measure_all()
    return circuit, params

# Example: Create a 2-qubit QNN circuit
num_qubits = 2
qnn_circuit, params = create_qnn_circuit(num_qubits)
print(qnn_circuit)
